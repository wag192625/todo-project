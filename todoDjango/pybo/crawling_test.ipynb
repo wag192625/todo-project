{
 "cells": [
  {
   "cell_type": "code",
   "execution_count": 9,
   "metadata": {},
   "outputs": [
    {
     "name": "stdout",
     "output_type": "stream",
     "text": [
      "[<img alt=\"윤 대통령, 6·25 기념식서 “북-러 조약은 시대착오적 행동”\" class=\"_LAZY_LOADING _LAZY_LOADING_INIT_HIDE\" data-src=\"https://mimgnews.pstatic.net/image/origin/028/2024/06/25/2695205.jpg?type=nf220_150\" height=\"75\" style=\"display: none;\" width=\"110\"/>, <img alt='박덕흠, 여당몫 국회부의장 출마…\"거야, 협치테이블로 이끌것\"' class=\"_LAZY_LOADING _LAZY_LOADING_INIT_HIDE\" data-src=\"https://mimgnews.pstatic.net/image/origin/001/2024/06/25/14767291.jpg?type=nf220_150\" height=\"75\" style=\"display: none;\" width=\"110\"/>, <img alt=\"정성호 &quot;한동훈의 '채 해병 특검법' 받을만해…진일보한 것&quot;\" class=\"_LAZY_LOADING _LAZY_LOADING_INIT_HIDE\" data-src=\"https://mimgnews.pstatic.net/image/origin/055/2024/06/25/1166404.jpg?type=nf220_150\" height=\"75\" style=\"display: none;\" width=\"110\"/>, <img alt=\"오물풍선서 훼손된 ‘김정은 우상화 문건’ 나와…北 주민들의 의도적 행위? [뉴스+]\" class=\"_LAZY_LOADING _LAZY_LOADING_INIT_HIDE\" data-src=\"https://mimgnews.pstatic.net/image/origin/022/2024/06/25/3944919.jpg?type=nf220_150\" height=\"75\" style=\"display: none;\" width=\"110\"/>, <img alt='국민의힘 당권주자들 핵무장론 논쟁…\"이제는 가져야\" vs \"시기상조\"' class=\"_LAZY_LOADING _LAZY_LOADING_INIT_HIDE\" data-src=\"https://mimgnews.pstatic.net/image/origin/119/2024/06/25/2843461.jpg?type=nf220_150\" height=\"75\" style=\"display: none;\" width=\"110\"/>, <img alt='홍준표 \"뉴욕 불바다 각오하고 미국이 서울 지키겠나\"' class=\"_LAZY_LOADING _LAZY_LOADING_INIT_HIDE\" data-src=\"https://mimgnews.pstatic.net/image/origin/001/2024/06/25/14768008.jpg?type=nf220_150\" height=\"75\" style=\"display: none;\" width=\"110\"/>, <img alt=\"방송 3+1법, 법사위 통과… 與 반발에도 野 강행 처리\" class=\"_LAZY_LOADING _LAZY_LOADING_INIT_HIDE\" data-src=\"https://mimgnews.pstatic.net/image/origin/023/2024/06/25/3842268.jpg?type=nf220_150\" height=\"75\" style=\"display: none;\" width=\"110\"/>, <img alt='尹, 6·25 참전유공자 위로연…\"영웅의 희생 영원히 기억\"' class=\"_LAZY_LOADING _LAZY_LOADING_INIT_HIDE\" data-src=\"https://mimgnews.pstatic.net/image/origin/001/2024/06/25/14767896.jpg?type=nf220_150\" height=\"75\" style=\"display: none;\" width=\"110\"/>, <img alt=' 한총리, 리튬전지공장 화재로 \"희생된 분들께 깊은 애도\"[현장연결]' class=\"_LAZY_LOADING _LAZY_LOADING_INIT_HIDE\" data-src=\"https://mimgnews.pstatic.net/image/origin/422/2024/06/25/667002.jpg?type=nf220_150\" height=\"75\" style=\"display: none;\" width=\"110\"/>]\n",
      "[{'image': 'NO IMAGE', 'image_s': 'NO IMAGE'}, {'image': 'NO IMAGE', 'image_s': 'NO IMAGE'}, {'image': 'NO IMAGE', 'image_s': 'NO IMAGE'}, {'image': 'NO IMAGE', 'image_s': 'NO IMAGE'}, {'image': 'NO IMAGE', 'image_s': 'NO IMAGE'}, {'image': 'NO IMAGE', 'image_s': 'NO IMAGE'}, {'image': 'NO IMAGE', 'image_s': 'NO IMAGE'}, {'image': 'NO IMAGE', 'image_s': 'NO IMAGE'}, {'image': 'NO IMAGE', 'image_s': 'NO IMAGE'}, {'image': 'NO IMAGE', 'image_s': 'NO IMAGE'}]\n"
     ]
    }
   ],
   "source": [
    "# https://kante-kante.tistory.com/11\n",
    "\n",
    "# import는 상단에\n",
    "import requests\n",
    "from bs4 import BeautifulSoup\n",
    " \n",
    " \n",
    "#네이버 경제 메인 (안 됨)\n",
    "url = f'https://news.naver.com/section/100'\n",
    "\n",
    "# url = f'https://news.nate.com/recent?mid=n0105'\n",
    "\n",
    "# headers = {'User-Agent': \"Mozilla/5.0 (Windows NT 10.0; Win64; x64) AppleWebKit/537.36 (KHTML, like Gecko) Chrome/90.0.4430.212 Safari/537.36\"}\n",
    "headers = {\n",
    "    'User-Agent': \"Mozilla/5.0 (Windows NT 10.0; Win64; x64) AppleWebKit/537.36 (KHTML, like Gecko) Chrome/91.0.4472.124 Safari/537.36\",\n",
    "    # 'Referer': 'https://google.com',\n",
    "    # 'Accept-Language': 'en-US,en;q=0.9',\n",
    "    # 'Cookie': 'your-cookie-here'\n",
    "    }\n",
    "response = requests.get(url,headers=headers)\n",
    "soup = BeautifulSoup(response.text,'html.parser')\n",
    "\n",
    "news_title = soup.select('#newsct > div.section_component.as_section_headline._PERSIST_CONTENT > div > ul > li > div > div > div.sa_text > a')\n",
    "news_content = soup.select('#newsct > div.section_component.as_section_headline._PERSIST_CONTENT > div > ul > li > div > div > div.sa_text > div.sa_text_lede')\n",
    "news_writing = soup.select('#newsct > div.section_component.as_section_headline._PERSIST_CONTENT > div > ul > li > div > div > div.sa_text > div.sa_text_info > div.sa_text_info_left')\n",
    "news_image = soup.select('#newsct > div.section_component.as_section_headline._PERSIST_CONTENT > div > ul > li > div > div > div > div.sa_thumb_inner > a >img')\n",
    "\n",
    "# news = soup.select('#newsct > div.section_component.as_section_headline._PERSIST_CONTENT > div > ul > li > div > div > div > div.sa_thumb_inner > a >img')\n",
    "\n",
    "print(news_image)\n",
    "\n",
    "newslist = list()\n",
    "nnews = list()\n",
    "\n",
    "for news in news_title: # 뉴스 제목을 리스트에 append\n",
    "\tnnews.append(news.text.strip())\n",
    "\n",
    "for i in range(len(nnews)):\n",
    "    title = news_title[i].text.strip()\n",
    "    link = news_title[i].get('href')\n",
    "    content = news_content[i].text.strip()\n",
    "    writing = news_writing[i].text.strip()\n",
    " \n",
    "    try: #list index out of range 방지를 위한 예외처리\n",
    "        image_s = news_image[i].get('data-src')\n",
    "        image = news_image[i].get('data-src').replace('nf132_90','w647') # 크기 조정을 위한 replace\n",
    "    except:\n",
    "        image_s=\"NO IMAGE\"\n",
    "        image = \"NO IMAGE\"\n",
    "\n",
    "    item_obj = {\n",
    "        # 'title': title,\n",
    "        # 'link': link,\n",
    "        # 'content': content,\n",
    "        # 'writing': writing,\n",
    "        'image': image,\n",
    "        'image_s': image_s,\n",
    "    }\n",
    "\n",
    "    newslist.append(item_obj)\n",
    "\n",
    "print(newslist, end='\\n')"
   ]
  }
 ],
 "metadata": {
  "kernelspec": {
   "display_name": "Python 3",
   "language": "python",
   "name": "python3"
  },
  "language_info": {
   "codemirror_mode": {
    "name": "ipython",
    "version": 3
   },
   "file_extension": ".py",
   "mimetype": "text/x-python",
   "name": "python",
   "nbconvert_exporter": "python",
   "pygments_lexer": "ipython3",
   "version": "3.11.9"
  }
 },
 "nbformat": 4,
 "nbformat_minor": 2
}
