{
 "cells": [
  {
   "cell_type": "code",
   "execution_count": 11,
   "metadata": {},
   "outputs": [
    {
     "name": "stdout",
     "output_type": "stream",
     "text": [
      "[{'image': 'https://mimgnews.pstatic.net/image/origin/003/2024/06/24/12625636.jpg?type=nf220_150', 'image_s': 'https://mimgnews.pstatic.net/image/origin/003/2024/06/24/12625636.jpg?type=nf220_150'}, {'image': 'https://mimgnews.pstatic.net/image/origin/214/2024/06/25/1357036.jpg?type=nf220_150', 'image_s': 'https://mimgnews.pstatic.net/image/origin/214/2024/06/25/1357036.jpg?type=nf220_150'}, {'image': 'https://mimgnews.pstatic.net/image/origin/014/2024/06/25/5204085.jpg?type=nf220_150', 'image_s': 'https://mimgnews.pstatic.net/image/origin/014/2024/06/25/5204085.jpg?type=nf220_150'}, {'image': 'https://mimgnews.pstatic.net/image/origin/586/2024/06/25/81365.jpg?type=nf220_150', 'image_s': 'https://mimgnews.pstatic.net/image/origin/586/2024/06/25/81365.jpg?type=nf220_150'}, {'image': 'https://mimgnews.pstatic.net/image/origin/057/2024/06/25/1825740.jpg?type=nf220_150', 'image_s': 'https://mimgnews.pstatic.net/image/origin/057/2024/06/25/1825740.jpg?type=nf220_150'}, {'image': 'https://mimgnews.pstatic.net/image/origin/023/2024/06/25/3842246.jpg?type=nf220_150', 'image_s': 'https://mimgnews.pstatic.net/image/origin/023/2024/06/25/3842246.jpg?type=nf220_150'}, {'image': 'https://mimgnews.pstatic.net/image/origin/016/2024/06/25/2326530.jpg?type=nf220_150', 'image_s': 'https://mimgnews.pstatic.net/image/origin/016/2024/06/25/2326530.jpg?type=nf220_150'}, {'image': 'https://mimgnews.pstatic.net/image/origin/008/2024/06/25/5055022.jpg?type=nf220_150', 'image_s': 'https://mimgnews.pstatic.net/image/origin/008/2024/06/25/5055022.jpg?type=nf220_150'}, {'image': 'https://mimgnews.pstatic.net/image/origin/055/2024/06/25/1166450.jpg?type=nf220_150', 'image_s': 'https://mimgnews.pstatic.net/image/origin/055/2024/06/25/1166450.jpg?type=nf220_150'}, {'image': 'https://mimgnews.pstatic.net/image/origin/015/2024/06/25/5001420.jpg?type=nf220_150', 'image_s': 'https://mimgnews.pstatic.net/image/origin/015/2024/06/25/5001420.jpg?type=nf220_150'}]\n"
     ]
    }
   ],
   "source": [
    "# https://kante-kante.tistory.com/11\n",
    "\n",
    "# import는 상단에\n",
    "import requests\n",
    "from bs4 import BeautifulSoup\n",
    " \n",
    " \n",
    "#네이버 경제 메인 (안 됨)\n",
    "url = f'https://news.naver.com/section/100'\n",
    "\n",
    "# url = f'https://news.nate.com/recent?mid=n0105'\n",
    "\n",
    "# headers = {'User-Agent': \"Mozilla/5.0 (Windows NT 10.0; Win64; x64) AppleWebKit/537.36 (KHTML, like Gecko) Chrome/90.0.4430.212 Safari/537.36\"}\n",
    "headers = {\n",
    "    'User-Agent': \"Mozilla/5.0 (Windows NT 10.0; Win64; x64) AppleWebKit/537.36 (KHTML, like Gecko) Chrome/91.0.4472.124 Safari/537.36\",\n",
    "    # 'Referer': 'https://google.com',\n",
    "    # 'Accept-Language': 'en-US,en;q=0.9',\n",
    "    # 'Cookie': 'your-cookie-here'\n",
    "    }\n",
    "response = requests.get(url,headers=headers)\n",
    "soup = BeautifulSoup(response.text,'html.parser')\n",
    "\n",
    "news_title = soup.select('#newsct > div.section_component.as_section_headline._PERSIST_CONTENT > div > ul > li > div > div > div.sa_text > a')\n",
    "news_content = soup.select('#newsct > div.section_component.as_section_headline._PERSIST_CONTENT > div > ul > li > div > div > div.sa_text > div.sa_text_lede')\n",
    "news_writing = soup.select('#newsct > div.section_component.as_section_headline._PERSIST_CONTENT > div > ul > li > div > div > div.sa_text > div.sa_text_info > div.sa_text_info_left')\n",
    "news_image = soup.select('#newsct > div.section_component.as_section_headline._PERSIST_CONTENT > div > ul > li > div > div > div > div.sa_thumb_inner > a >img')\n",
    "\n",
    "# news = soup.select('#newsct > div.section_component.as_section_headline._PERSIST_CONTENT > div > ul > li > div > div > div > div.sa_thumb_inner > a >img')\n",
    "\n",
    "# print(news_image)\n",
    "\n",
    "newslist = list()\n",
    "nnews = list()\n",
    "\n",
    "for news in news_title: # 뉴스 제목을 리스트에 append\n",
    "\tnnews.append(news.text.strip())\n",
    "\n",
    "for i in range(len(nnews)):\n",
    "    title = news_title[i].text.strip()\n",
    "    link = news_title[i].get('href')\n",
    "    content = news_content[i].text.strip()\n",
    "    writing = news_writing[i].text.strip()\n",
    " \n",
    "    try: #list index out of range 방지를 위한 예외처리\n",
    "        image_s = news_image[i].get('data-src')\n",
    "        image = news_image[i].get('data-src').replace('nf132_90','w647') # 크기 조정을 위한 replace\n",
    "    except:\n",
    "        image_s=\"NO IMAGE\"\n",
    "        image = \"NO IMAGE\"\n",
    "\n",
    "    item_obj = {\n",
    "        # 'title': title,\n",
    "        # 'link': link,\n",
    "        # 'content': content,\n",
    "        # 'writing': writing,\n",
    "        'image': image,\n",
    "        'image_s': image_s,\n",
    "    }\n",
    "\n",
    "    newslist.append(item_obj)\n",
    "\n",
    "print(newslist, end='\\n')"
   ]
  }
 ],
 "metadata": {
  "kernelspec": {
   "display_name": "Python 3",
   "language": "python",
   "name": "python3"
  },
  "language_info": {
   "codemirror_mode": {
    "name": "ipython",
    "version": 3
   },
   "file_extension": ".py",
   "mimetype": "text/x-python",
   "name": "python",
   "nbconvert_exporter": "python",
   "pygments_lexer": "ipython3",
   "version": "3.11.9"
  }
 },
 "nbformat": 4,
 "nbformat_minor": 2
}
